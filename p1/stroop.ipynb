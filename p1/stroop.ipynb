{
 "cells": [
  {
   "cell_type": "markdown",
   "metadata": {},
   "source": [
    "## P1: Test a Perceptual Phenomenon\n",
    "    \n",
    "    \n",
    "### Background Information\n",
    "\n",
    "In a Stroop task, participants are presented with a list of words, with each word displayed in a color of ink. The participant’s task is to say out loud the color of the ink in which the word is printed. The task has two conditions: a congruent words condition, and an incongruent words condition. In the congruent words condition, the words being displayed are color words whose names match the colors in which they are printed: for example RED, BLUE. In the incongruent words condition, the words displayed are color words whose names do not match the colors in which they are printed: for example PURPLE, ORANGE. In each case, we measure the time it takes to name the ink colors in equally-sized lists. Each participant will go through and record a time from each condition.\n",
    "\n",
    "Stroop task applet: [applet](https://www.google.com/url?q=https%3A%2F%2Ffaculty.washington.edu%2Fchudler%2Fjava%2Fready.html&sa=D&sntz=1&usg=AFQjCNGc_1cOHZy4iwBhM93xXvCImuQ1sQ)"
   ]
  },
  {
   "cell_type": "markdown",
   "metadata": {},
   "source": [
    "#### 1. What is our independent variable? What is our dependent variable?\n",
    "\n",
    "Independent variable: task condition (a congruent/incongruent words condition)\n",
    "\n",
    "Dependent variable: reaction time of the task (measured with the time it takes to name the ink colors in equally-sized lists).\n"
   ]
  },
  {
   "cell_type": "markdown",
   "metadata": {},
   "source": [
    "####  2. What is an appropriate set of hypotheses for this task? What kind of statistical test do you expect to perform? Justify your choices.\n",
    "    \n",
    "**H0**: task condition does not effect reaction time  \n",
    "**HA**: task condition effects the reaction time.\n",
    "\n",
    "We have results of two experiments performed on the same population. This is a scenario for dependent t-test for paired samples.\n",
    "\n",
    "\n",
    "Alternatively, we could use *intererence* as dependent variable. Interference would be defined as reaction time on incongruent words condition minus reaction time on congruent words condition. In such case:  \n",
    "**H0**: task is not interfered by the condition (intererence = 0)  \n",
    "**HA**: task is interfered by the condition (interference < 0 or intererence > 0)  \n",
    "We should also use t-test for this scenario.\n"
   ]
  },
  {
   "cell_type": "markdown",
   "metadata": {},
   "source": [
    "#### 3. Report some descriptive statistics regarding this dataset. Include at least one measure of central tendency and at least one measure of variability.\n"
   ]
  },
  {
   "cell_type": "code",
   "execution_count": 1,
   "metadata": {
    "collapsed": false,
    "scrolled": true
   },
   "outputs": [
    {
     "data": {
      "text/html": [
       "<div>\n",
       "<table border=\"1\" class=\"dataframe\">\n",
       "  <thead>\n",
       "    <tr style=\"text-align: right;\">\n",
       "      <th></th>\n",
       "      <th>Congruent</th>\n",
       "      <th>Incongruent</th>\n",
       "      <th>Interference</th>\n",
       "    </tr>\n",
       "  </thead>\n",
       "  <tbody>\n",
       "    <tr>\n",
       "      <th>0</th>\n",
       "      <td>12.079</td>\n",
       "      <td>19.278</td>\n",
       "      <td>7.199</td>\n",
       "    </tr>\n",
       "    <tr>\n",
       "      <th>1</th>\n",
       "      <td>16.791</td>\n",
       "      <td>18.741</td>\n",
       "      <td>1.950</td>\n",
       "    </tr>\n",
       "    <tr>\n",
       "      <th>2</th>\n",
       "      <td>9.564</td>\n",
       "      <td>21.214</td>\n",
       "      <td>11.650</td>\n",
       "    </tr>\n",
       "    <tr>\n",
       "      <th>3</th>\n",
       "      <td>8.630</td>\n",
       "      <td>15.687</td>\n",
       "      <td>7.057</td>\n",
       "    </tr>\n",
       "    <tr>\n",
       "      <th>4</th>\n",
       "      <td>14.669</td>\n",
       "      <td>22.803</td>\n",
       "      <td>8.134</td>\n",
       "    </tr>\n",
       "    <tr>\n",
       "      <th>5</th>\n",
       "      <td>12.238</td>\n",
       "      <td>20.878</td>\n",
       "      <td>8.640</td>\n",
       "    </tr>\n",
       "    <tr>\n",
       "      <th>6</th>\n",
       "      <td>14.692</td>\n",
       "      <td>24.572</td>\n",
       "      <td>9.880</td>\n",
       "    </tr>\n",
       "    <tr>\n",
       "      <th>7</th>\n",
       "      <td>8.987</td>\n",
       "      <td>17.394</td>\n",
       "      <td>8.407</td>\n",
       "    </tr>\n",
       "    <tr>\n",
       "      <th>8</th>\n",
       "      <td>9.401</td>\n",
       "      <td>20.762</td>\n",
       "      <td>11.361</td>\n",
       "    </tr>\n",
       "    <tr>\n",
       "      <th>9</th>\n",
       "      <td>14.480</td>\n",
       "      <td>26.282</td>\n",
       "      <td>11.802</td>\n",
       "    </tr>\n",
       "    <tr>\n",
       "      <th>10</th>\n",
       "      <td>22.328</td>\n",
       "      <td>24.524</td>\n",
       "      <td>2.196</td>\n",
       "    </tr>\n",
       "    <tr>\n",
       "      <th>11</th>\n",
       "      <td>15.298</td>\n",
       "      <td>18.644</td>\n",
       "      <td>3.346</td>\n",
       "    </tr>\n",
       "    <tr>\n",
       "      <th>12</th>\n",
       "      <td>15.073</td>\n",
       "      <td>17.510</td>\n",
       "      <td>2.437</td>\n",
       "    </tr>\n",
       "    <tr>\n",
       "      <th>13</th>\n",
       "      <td>16.929</td>\n",
       "      <td>20.330</td>\n",
       "      <td>3.401</td>\n",
       "    </tr>\n",
       "    <tr>\n",
       "      <th>14</th>\n",
       "      <td>18.200</td>\n",
       "      <td>35.255</td>\n",
       "      <td>17.055</td>\n",
       "    </tr>\n",
       "    <tr>\n",
       "      <th>15</th>\n",
       "      <td>12.130</td>\n",
       "      <td>22.158</td>\n",
       "      <td>10.028</td>\n",
       "    </tr>\n",
       "    <tr>\n",
       "      <th>16</th>\n",
       "      <td>18.495</td>\n",
       "      <td>25.139</td>\n",
       "      <td>6.644</td>\n",
       "    </tr>\n",
       "    <tr>\n",
       "      <th>17</th>\n",
       "      <td>10.639</td>\n",
       "      <td>20.429</td>\n",
       "      <td>9.790</td>\n",
       "    </tr>\n",
       "    <tr>\n",
       "      <th>18</th>\n",
       "      <td>11.344</td>\n",
       "      <td>17.425</td>\n",
       "      <td>6.081</td>\n",
       "    </tr>\n",
       "    <tr>\n",
       "      <th>19</th>\n",
       "      <td>12.369</td>\n",
       "      <td>34.288</td>\n",
       "      <td>21.919</td>\n",
       "    </tr>\n",
       "    <tr>\n",
       "      <th>20</th>\n",
       "      <td>12.944</td>\n",
       "      <td>23.894</td>\n",
       "      <td>10.950</td>\n",
       "    </tr>\n",
       "    <tr>\n",
       "      <th>21</th>\n",
       "      <td>14.233</td>\n",
       "      <td>17.960</td>\n",
       "      <td>3.727</td>\n",
       "    </tr>\n",
       "    <tr>\n",
       "      <th>22</th>\n",
       "      <td>19.710</td>\n",
       "      <td>22.058</td>\n",
       "      <td>2.348</td>\n",
       "    </tr>\n",
       "    <tr>\n",
       "      <th>23</th>\n",
       "      <td>16.004</td>\n",
       "      <td>21.157</td>\n",
       "      <td>5.153</td>\n",
       "    </tr>\n",
       "  </tbody>\n",
       "</table>\n",
       "</div>"
      ],
      "text/plain": [
       "    Congruent  Incongruent  Interference\n",
       "0      12.079       19.278         7.199\n",
       "1      16.791       18.741         1.950\n",
       "2       9.564       21.214        11.650\n",
       "3       8.630       15.687         7.057\n",
       "4      14.669       22.803         8.134\n",
       "5      12.238       20.878         8.640\n",
       "6      14.692       24.572         9.880\n",
       "7       8.987       17.394         8.407\n",
       "8       9.401       20.762        11.361\n",
       "9      14.480       26.282        11.802\n",
       "10     22.328       24.524         2.196\n",
       "11     15.298       18.644         3.346\n",
       "12     15.073       17.510         2.437\n",
       "13     16.929       20.330         3.401\n",
       "14     18.200       35.255        17.055\n",
       "15     12.130       22.158        10.028\n",
       "16     18.495       25.139         6.644\n",
       "17     10.639       20.429         9.790\n",
       "18     11.344       17.425         6.081\n",
       "19     12.369       34.288        21.919\n",
       "20     12.944       23.894        10.950\n",
       "21     14.233       17.960         3.727\n",
       "22     19.710       22.058         2.348\n",
       "23     16.004       21.157         5.153"
      ]
     },
     "execution_count": 1,
     "metadata": {},
     "output_type": "execute_result"
    }
   ],
   "source": [
    "import pandas as pd\n",
    "path = r'./stroopdata.csv'\n",
    "df = pd.read_csv(path)\n",
    "df['Interference'] = df['Incongruent'] - df['Congruent']\n",
    "df\n"
   ]
  },
  {
   "cell_type": "code",
   "execution_count": 2,
   "metadata": {
    "collapsed": false
   },
   "outputs": [
    {
     "name": "stdout",
     "output_type": "stream",
     "text": [
      "Congruent test:\n",
      "\tmean = 14.051125\n",
      "\tstd  = 3.55935795765\n",
      "\n",
      "Incongruent test:\n",
      "\tmean = 22.0159166667\n",
      "\tstd  = 4.79705712247\n",
      "\n",
      "Interference (diff):\n",
      "\tmean = 7.96479166667\n",
      "\tstd  = 4.86482691036\n"
     ]
    }
   ],
   "source": [
    "print 'Congruent test:'\n",
    "c_mean, c_std = df['Congruent'].mean(), df['Congruent'].std()\n",
    "print '\\tmean = {0}'.format(c_mean)\n",
    "print '\\tstd  = {0}'.format(c_std)\n",
    "print\n",
    "\n",
    "print 'Incongruent test:'\n",
    "i_mean, i_std = df['Incongruent'].mean(), df['Incongruent'].std()\n",
    "print '\\tmean = {0}'.format(i_mean)\n",
    "print '\\tstd  = {0}'.format(i_std)\n",
    "print\n",
    "\n",
    "print 'Interference (diff):'\n",
    "d_mean, d_std = df['Interference'].mean(), df['Interference'].std()\n",
    "print '\\tmean = {0}'.format(d_mean)\n",
    "print '\\tstd  = {0}'.format(d_std)\n",
    "\n"
   ]
  },
  {
   "cell_type": "markdown",
   "metadata": {},
   "source": [
    "#### 4. Provide one or two visualizations that show the distribution of the sample data. Write one or two sentences noting what you observe about the plot or plots."
   ]
  },
  {
   "cell_type": "code",
   "execution_count": 26,
   "metadata": {
    "collapsed": false
   },
   "outputs": [
    {
     "name": "stdout",
     "output_type": "stream",
     "text": [
      "Populating the interactive namespace from numpy and matplotlib\n"
     ]
    },
    {
     "data": {
      "image/png": "[encoded data removed]",
      "text/plain": [
       "<matplotlib.figure.Figure at 0x7fb8781fec90>"
      ]
     },
     "metadata": {},
     "output_type": "display_data"
    },
    {
     "data": {
      "image/png": "[encoded data removed]",
      "text/plain": [
       "<matplotlib.figure.Figure at 0x7fb877fc0c50>"
      ]
     },
     "metadata": {},
     "output_type": "display_data"
    }
   ],
   "source": [
    "# Causes plots to display within the notebook rather than in a new window\n",
    "%pylab inline\n",
    "\n",
    "import matplotlib.pyplot as plt\n",
    "matplotlib.style.use('ggplot')\n",
    "\n",
    "fig = plt.figure(figsize=(10, 8))\n",
    "plt.hist([df['Congruent'], df['Incongruent']], bins = 15, label = ['congruent', 'incongruent'])\n",
    "plt.title('Plot #1: Reaction time for congruent and incogruent tests')\n",
    "plt.xlabel('reaction time (s)')\n",
    "plt.ylabel('# of samples')\n",
    "plt.show()\n",
    "\n",
    "fig = plt.figure(figsize=(10, 8))\n",
    "plt.hist(df['Interference'], bins = 12)\n",
    "plt.title('Plot #2: Increase in reaction time on incongruent test')\n",
    "plt.xlabel('reaction time increase == interference (s)')\n",
    "plt.ylabel('# of samples')\n",
    "plt.show()\n"
   ]
  },
  {
   "cell_type": "markdown",
   "metadata": {},
   "source": [
    "Plot \\#1:  \n",
    "- histograms of both congruent and incogruent test starts to look like normal distribution\n",
    "- incongruent test reaction times are noticeably higher than cogruent test's.\n",
    "\n",
    "Plot \\#2:\n",
    "- due to small number of samples there is no obvious answer what is the type of interference distribution.  \n",
    "  The most interesting candidates are: normal distribution, right-skewed and bimodal.\n"
   ]
  },
  {
   "cell_type": "markdown",
   "metadata": {},
   "source": [
    "####5. Now, perform the statistical test and report your results. What is your confidence level and your critical statistic value? Do you reject the null hypothesis or fail to reject it? Come to a conclusion in terms of the experiment task. Did the results match up with your expectations?\n"
   ]
  },
  {
   "cell_type": "markdown",
   "metadata": {},
   "source": [
    "confidence level: 5%   \n",
    "n (degrees of freedom): 24  \n",
    "critical statistic value: +/-2.064  \n",
    "\n",
    "\n",
    "t = $\\frac{\\mu_i - \\mu_c}{s / \\sqrt{n}}$ = $\\frac{22.0159 - 14.0511}{4.8648 / \\sqrt{24}}$ = 8.0207\n",
    "\n",
    "The t-statistic rejects the null hypothesis.  \n",
    "With 95% confidence we can say that incongruent test has significantly different reaction time than congruent test.\n",
    "\n",
    "This is an expected result for me. I tried to do the test and there was noticeable difference in the way how the brain performs the task: congruent test seemed much more automatic (and as result, faster), than incongruent test.\n"
   ]
  },
  {
   "cell_type": "code",
   "execution_count": 33,
   "metadata": {
    "collapsed": false
   },
   "outputs": [
    {
     "name": "stdout",
     "output_type": "stream",
     "text": [
      "(8.020706944109957, 4.1030005857111781e-08)\n"
     ]
    }
   ],
   "source": [
    "from scipy import stats\n",
    "rvs = scipy.stats.ttest_rel(df['Incongruent'], df['Congruent'])\n",
    "print rvs"
   ]
  },
  {
   "cell_type": "markdown",
   "metadata": {},
   "source": [
    "#### 6. Optional: What do you think is responsible for the effects observed? Can you think of an alternative or similar task that would result in a similar effect? Some research about the problem will be helpful for thinking about these two questions!\n",
    "\n"
   ]
  },
  {
   "cell_type": "markdown",
   "metadata": {
    "collapsed": true
   },
   "source": [
    "The congruent task was more about reading the colors than recognizing them.  \n",
    "The incogruent task was about recognizing the colors.  \n",
    "Both tasks have different levels of automations: people spend significantly more time reading than consciously naming colors which they see.\n",
    "    \n",
    "Probably similar results can be obrained if we replace any of the tasks with a task with similar automation level:\n",
    "- more-automated task: using bigger/smaller font\n",
    "- less-automated task: determine if number is odd/even\n",
    "\n",
    "Then:  \n",
    "**congruent task**: given an array of numbers (e.g. 30?), count how many of them are even. Even numbrers would be written with slighlty bigger font than odd ones.  \n",
    "**incogruent task**: count how many number are even. Some numbers are written with bigger font than others, but there is no correlation between parity and font size.\n"
   ]
  },
  {
   "cell_type": "markdown",
   "metadata": {},
   "source": [
    "#### Bibliography:\n",
    "    \n",
    "- [Stroop effect on Wikipedia](https://en.wikipedia.org/wiki/Stroop_effect)"
   ]
  }
 ],
 "metadata": {
  "kernelspec": {
   "display_name": "Python 2",
   "language": "python",
   "name": "python2"
  },
  "language_info": {
   "codemirror_mode": {
    "name": "ipython",
    "version": 2
   },
   "file_extension": ".py",
   "mimetype": "text/x-python",
   "name": "python",
   "nbconvert_exporter": "python",
   "pygments_lexer": "ipython2",
   "version": "2.7.10"
  }
 },
 "nbformat": 4,
 "nbformat_minor": 0
}
